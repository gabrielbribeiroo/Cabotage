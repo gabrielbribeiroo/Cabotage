{
 "cells": [
  {
   "cell_type": "markdown",
   "id": "46f2796e",
   "metadata": {},
   "source": [
    "📦 Imports"
   ]
  },
  {
   "cell_type": "code",
   "execution_count": null,
   "id": "fff9d55b",
   "metadata": {},
   "outputs": [],
   "source": [
    "import numpy as np"
   ]
  },
  {
   "cell_type": "markdown",
   "id": "f701efb5",
   "metadata": {},
   "source": [
    "📊 Input: Evaluation data from 25 respondents (12 criteria each)"
   ]
  },
  {
   "cell_type": "code",
   "execution_count": null,
   "id": "156c82b2",
   "metadata": {},
   "outputs": [],
   "source": [
    "# Ratings extracted from the document (12 criteria evaluated by 25 respondents)\n",
    "ratings = np.array([\n",
    "    [5, 5, 5, 5, 3, 5, 3, 5, 5, 5, 5, 3],\n",
    "    [5, 5, 5, 5, 5, 5, 5, 5, 5, 4, 5, 5],\n",
    "    [5, 5, 5, 4, 4, 4, 4, 4, 4, 4, 5, 3],\n",
    "    [4, 3, 4, 4, 3, 3, 2, 3, 3, 5, 4, 2],\n",
    "    [5, 4, 5, 5, 5, 5, 5, 5, 4, 5, 5, 5],\n",
    "    [4, 4, 5, 4, 5, 5, 5, 5, 5, 4, 5, 5],\n",
    "    [3, 4, 4, 5, 5, 5, 5, 5, 4, 5, 5, 4],\n",
    "    [5, 5, 5, 5, 5, 5, 5, 5, 5, 5, 5, 4],\n",
    "    [5, 5, 5, 5, 4, 5, 5, 5, 4, 4, 5, 5],\n",
    "    [3, 4, 4, 3, 5, 3, 5, 4, 2, 4, 4, 3],\n",
    "    [5, 5, 5, 5, 5, 5, 5, 5, 5, 5, 5, 5],\n",
    "    [5, 5, 4, 4, 5, 5, 5, 5, 4, 3, 5, 4],\n",
    "    [4, 4, 4, 4, 4, 4, 4, 4, 4, 4, 4, 4],\n",
    "    [5, 4, 5, 5, 5, 5, 5, 5, 4, 4, 5, 4],\n",
    "    [4, 5, 3, 5, 4, 4, 4, 3, 4, 4, 5, 4],\n",
    "    [5, 5, 5, 5, 5, 5, 5, 5, 5, 5, 5, 5],\n",
    "    [3, 3, 5, 3, 4, 4, 4, 4, 3, 5, 5, 4],\n",
    "    [4, 5, 2, 5, 5, 4, 5, 2, 2, 2, 3, 3],\n",
    "    [4, 4, 5, 5, 5, 5, 5, 5, 5, 5, 3, 3],\n",
    "    [4, 4, 5, 4, 4, 5, 5, 5, 4, 4, 4, 4],\n",
    "    [5, 5, 5, 5, 3, 3, 5, 5, 3, 5, 4, 3],\n",
    "    [5, 5, 5, 5, 3, 5, 5, 5, 5, 5, 4, 5],\n",
    "    [5, 4, 4, 5, 4, 4, 4, 4, 3, 5, 4, 4],\n",
    "    [5, 5, 5, 5, 5, 4, 4, 5, 3, 5, 5, 4]\n",
    "])\n"
   ]
  },
  {
   "cell_type": "markdown",
   "id": "41085344",
   "metadata": {},
   "source": [
    "📐 Step 1: Compute ordinal preference matrix"
   ]
  },
  {
   "cell_type": "code",
   "execution_count": null,
   "id": "c68fb1c3",
   "metadata": {},
   "outputs": [],
   "source": [
    "# Sort criteria in descending order for each respondent\n",
    "# Used to create the ordinal preference matrix\n",
    "ranking = np.argsort(-ratings, axis=1)"
   ]
  },
  {
   "cell_type": "markdown",
   "id": "98e29835",
   "metadata": {},
   "source": [
    "⚖️ Step 2: Compute SAPEVO weights"
   ]
  },
  {
   "cell_type": "code",
   "execution_count": null,
   "id": "a4c4c85e",
   "metadata": {},
   "outputs": [],
   "source": [
    "num_criteria = ratings.shape[1]\n",
    "num_respondents = ratings.shape[0]\n",
    "\n",
    "# Initialize matrix for individual weights\n",
    "weights_matrix = np.zeros((num_respondents, num_criteria))\n",
    "\n",
    "# Apply inverse position ranking to calculate importance\n",
    "for i in range(num_respondents):\n",
    "    for j in range(num_criteria):\n",
    "        position = np.where(ranking[i] == j)[0][0]  # Find the position of the criterion\n",
    "        weights_matrix[i, j] = 1 / (position + 1)   # Inverse of position for weight"
   ]
  }
 ],
 "metadata": {
  "language_info": {
   "name": "python"
  }
 },
 "nbformat": 4,
 "nbformat_minor": 5
}
