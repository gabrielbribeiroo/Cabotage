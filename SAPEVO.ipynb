{
 "cells": [
  {
   "cell_type": "markdown",
   "id": "46f2796e",
   "metadata": {},
   "source": [
    "📦 Imports"
   ]
  },
  {
   "cell_type": "code",
   "execution_count": null,
   "id": "fff9d55b",
   "metadata": {},
   "outputs": [],
   "source": [
    "import numpy as np"
   ]
  }
 ],
 "metadata": {
  "language_info": {
   "name": "python"
  }
 },
 "nbformat": 4,
 "nbformat_minor": 5
}
