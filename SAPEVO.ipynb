{
 "cells": [
  {
   "cell_type": "markdown",
   "id": "46f2796e",
   "metadata": {},
   "source": [
    "📦 Imports"
   ]
  },
  {
   "cell_type": "code",
   "execution_count": null,
   "id": "fff9d55b",
   "metadata": {},
   "outputs": [],
   "source": [
    "import numpy as np"
   ]
  },
  {
   "cell_type": "markdown",
   "id": "f701efb5",
   "metadata": {},
   "source": [
    "📊 Input: Evaluation data from 25 respondents (12 criteria each)"
   ]
  },
  {
   "cell_type": "code",
   "execution_count": null,
   "id": "156c82b2",
   "metadata": {},
   "outputs": [],
   "source": [
    "# Ratings extracted from the document (12 criteria evaluated by 25 respondents)\n",
    "ratings = np.array([\n",
    "    [5, 5, 5, 5, 3, 5, 3, 5, 5, 5, 5, 3],\n",
    "    [5, 5, 5, 5, 5, 5, 5, 5, 5, 4, 5, 5],\n",
    "    [5, 5, 5, 4, 4, 4, 4, 4, 4, 4, 5, 3],\n",
    "    [4, 3, 4, 4, 3, 3, 2, 3, 3, 5, 4, 2],\n",
    "    [5, 4, 5, 5, 5, 5, 5, 5, 4, 5, 5, 5],\n",
    "    [4, 4, 5, 4, 5, 5, 5, 5, 5, 4, 5, 5],\n",
    "    [3, 4, 4, 5, 5, 5, 5, 5, 4, 5, 5, 4],\n",
    "    [5, 5, 5, 5, 5, 5, 5, 5, 5, 5, 5, 4],\n",
    "    [5, 5, 5, 5, 4, 5, 5, 5, 4, 4, 5, 5],\n",
    "    [3, 4, 4, 3, 5, 3, 5, 4, 2, 4, 4, 3],\n",
    "    [5, 5, 5, 5, 5, 5, 5, 5, 5, 5, 5, 5],\n",
    "    [5, 5, 4, 4, 5, 5, 5, 5, 4, 3, 5, 4],\n",
    "    [4, 4, 4, 4, 4, 4, 4, 4, 4, 4, 4, 4],\n",
    "    [5, 4, 5, 5, 5, 5, 5, 5, 4, 4, 5, 4],\n",
    "    [4, 5, 3, 5, 4, 4, 4, 3, 4, 4, 5, 4],\n",
    "    [5, 5, 5, 5, 5, 5, 5, 5, 5, 5, 5, 5],\n",
    "    [3, 3, 5, 3, 4, 4, 4, 4, 3, 5, 5, 4],\n",
    "    [4, 5, 2, 5, 5, 4, 5, 2, 2, 2, 3, 3],\n",
    "    [4, 4, 5, 5, 5, 5, 5, 5, 5, 5, 3, 3],\n",
    "    [4, 4, 5, 4, 4, 5, 5, 5, 4, 4, 4, 4],\n",
    "    [5, 5, 5, 5, 3, 3, 5, 5, 3, 5, 4, 3],\n",
    "    [5, 5, 5, 5, 3, 5, 5, 5, 5, 5, 4, 5],\n",
    "    [5, 4, 4, 5, 4, 4, 4, 4, 3, 5, 4, 4],\n",
    "    [5, 5, 5, 5, 5, 4, 4, 5, 3, 5, 5, 4]\n",
    "])\n"
   ]
  },
  {
   "cell_type": "markdown",
   "id": "41085344",
   "metadata": {},
   "source": [
    "📐 Step 1: Compute ordinal preference matrix"
   ]
  },
  {
   "cell_type": "code",
   "execution_count": null,
   "id": "c68fb1c3",
   "metadata": {},
   "outputs": [],
   "source": [
    "# Sort criteria in descending order for each respondent\n",
    "# Used to create the ordinal preference matrix\n",
    "ranking = np.argsort(-ratings, axis=1)"
   ]
  }
 ],
 "metadata": {
  "language_info": {
   "name": "python"
  }
 },
 "nbformat": 4,
 "nbformat_minor": 5
}
