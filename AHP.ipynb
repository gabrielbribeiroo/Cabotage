{
 "cells": [
  {
   "cell_type": "markdown",
   "id": "d5081d26",
   "metadata": {},
   "source": [
    "📦 1. Imports and Initial Configuration"
   ]
  },
  {
   "cell_type": "code",
   "execution_count": null,
   "id": "006bba5a",
   "metadata": {},
   "outputs": [],
   "source": [
    "import pandas as pd\n",
    "import numpy as np\n",
    "import sys\n",
    "import traceback"
   ]
  },
  {
   "cell_type": "markdown",
   "id": "fa7e8586",
   "metadata": {},
   "source": [
    "🧾 2. Input Data and Evaluation Parameters"
   ]
  },
  {
   "cell_type": "code",
   "execution_count": null,
   "id": "984e1933",
   "metadata": {},
   "outputs": [],
   "source": [
    "evaluations = np.array([\n",
    "    [5, 5, 5, 5, 3, 5, 3, 5, 5, 5, 5, 3],\n",
    "    [5, 5, 5, 5, 5, 5, 5, 5, 5, 4, 5, 5],\n",
    "    ...\n",
    "])\n",
    "\n",
    "CRITERIA_NAMES = [\n",
    "    \"Reduces Congestion\",\n",
    "    \"Efficiency of Land Transport\",\n",
    "    \"Mitigates Accident Risk\",\n",
    "    \"Reduces Road Wear\",\n",
    "    \"Economies of Scale\",\n",
    "    \"Reduces Fuel Consumption\",\n",
    "    \"Reduces Cost per Ton\",\n",
    "    \"Reduces Accident Records\",\n",
    "    \"Reduces Cargo Damage\",\n",
    "    \"Reduces Cargo Theft\",\n",
    "    \"Reduces CO2 Emissions\",\n",
    "    \"Minimizes Brazil Cost\"\n",
    "]\n",
    "\n",
    "SAATY_SCALE_MAP = {\n",
    "    0: 1,\n",
    "    1: 3,\n",
    "    2: 5,\n",
    "    3: 7,\n",
    "    4: 9,\n",
    "    -1: 1/3,\n",
    "    -2: 1/5,\n",
    "    -3: 1/7,\n",
    "    -4: 1/9\n",
    "}\n",
    "\n",
    "MAX_RATING = 5\n",
    "MIN_RATING = 1\n",
    "MAX_DIFF = MAX_RATING - MIN_RATING\n",
    "\n",
    "RI_TABLE = {\n",
    "    1: 0.00, 2: 0.00, 3: 0.58, 4: 0.90, 5: 1.12, 6: 1.24, 7: 1.32,\n",
    "    8: 1.41, 9: 1.45, 10: 1.49, 11: 1.51, 12: 1.48, 13: 1.56, 14: 1.57, 15: 1.59\n",
    "}"
   ]
  },
  {
   "cell_type": "markdown",
   "id": "c38e83a3",
   "metadata": {},
   "source": [
    "🧮 3. Function: Map Difference to Saaty Scale"
   ]
  },
  {
   "cell_type": "code",
   "execution_count": null,
   "id": "9b7e261b",
   "metadata": {},
   "outputs": [],
   "source": [
    "def map_difference_to_saaty(diff):\n",
    "    \"\"\"Maps the difference between two scores to the Saaty scale.\"\"\"\n",
    "    clamped_diff = np.clip(diff, -MAX_DIFF, MAX_DIFF)\n",
    "    rounded_diff = round(clamped_diff)\n",
    "    return SAATY_SCALE_MAP.get(rounded_diff, 1)"
   ]
  },
  {
   "cell_type": "markdown",
   "id": "78608988",
   "metadata": {},
   "source": [
    "🧩 4. Function: Convert Ratings to Pairwise Comparison Matrix"
   ]
  },
  {
   "cell_type": "code",
   "execution_count": null,
   "id": "5ae49b63",
   "metadata": {},
   "outputs": [],
   "source": [
    "def ratings_to_pcm(ratings_row):\n",
    "    \"\"\"Converts a row of ratings into a pairwise comparison matrix (PCM).\"\"\"\n",
    "    n = len(ratings_row)\n",
    "    pcm = np.ones((n, n))\n",
    "    if np.isnan(ratings_row).any() or np.isinf(ratings_row).any():\n",
    "        print(\"  Warning: Rating row contains NaN or Inf. Skipping respondent.\", file=sys.stderr)\n",
    "        return None\n",
    "    for i in range(n):\n",
    "        for j in range(i + 1, n):\n",
    "            diff = ratings_row[i] - ratings_row[j]\n",
    "            saaty_value = map_difference_to_saaty(diff)\n",
    "            pcm[i, j] = saaty_value\n",
    "            pcm[j, i] = 1.0 / saaty_value if saaty_value != 0 else np.inf\n",
    "    if np.isnan(pcm).any() or np.isinf(pcm).any() or (pcm <= 0).any():\n",
    "        print(\"  Warning: Invalid PCM (NaN/Inf/<=0). Skipping.\", file=sys.stderr)\n",
    "        return None\n",
    "    return pcm"
   ]
  },
  {
   "cell_type": "markdown",
   "id": "761d7b1d",
   "metadata": {},
   "source": [
    "⚖️ 5. Function: Aggregate PCMs via Geometric Mean"
   ]
  },
  {
   "cell_type": "code",
   "execution_count": null,
   "id": "6ac9ccbf",
   "metadata": {},
   "outputs": [],
   "source": [
    "def geometric_mean_aggregation(pcms):\n",
    "    \"\"\"Aggregates multiple PCMs using the geometric mean.\"\"\"\n",
    "    valid_pcms = [pcm for pcm in pcms if pcm is not None]\n",
    "    if not valid_pcms:\n",
    "        print(\"Aggregation Error: No valid PCMs found.\", file=sys.stderr)\n",
    "        return None\n",
    "    print(f\"Aggregating {len(valid_pcms)} valid PCMs using geometric mean...\")\n",
    "    stacked_pcms = np.stack(valid_pcms)\n",
    "    epsilon = 1e-9\n",
    "    log_pcms = np.log(np.maximum(stacked_pcms, epsilon))\n",
    "    mean_log_pcm = np.mean(log_pcms, axis=0)\n",
    "    aggregated_pcm = np.exp(mean_log_pcm)\n",
    "    np.fill_diagonal(aggregated_pcm, 1)\n",
    "    if np.isnan(aggregated_pcm).any() or np.isinf(aggregated_pcm).any():\n",
    "        print(\"Aggregation Error: Aggregated matrix contains NaN or Inf.\", file=sys.stderr)\n",
    "        return None\n",
    "    print(\"Aggregation completed successfully.\")\n",
    "    return aggregated_pcm"
   ]
  },
  {
   "cell_type": "markdown",
   "id": "5f8ab347",
   "metadata": {},
   "source": [
    "📊 6. Function: Calculate Weights and Consistency Ratio"
   ]
  },
  {
   "cell_type": "code",
   "execution_count": null,
   "id": "096df839",
   "metadata": {},
   "outputs": [],
   "source": [
    "def calculate_weights_and_cr(pcm):\n",
    "    \"\"\"Calculates weights and Consistency Ratio from a PCM.\"\"\"\n",
    "    print(\"--- Calculating Weights and Consistency ---\")\n",
    "    if pcm is None: return None, None, None, None\n",
    "    n = pcm.shape[0]\n",
    "    if n <= 0 or np.isnan(pcm).any() or np.isinf(pcm).any(): return None, None, None, None\n",
    "\n",
    "    if n <= 2:\n",
    "        if n == 1:\n",
    "            weights = np.array([1.0])\n",
    "            lambda_max = 1.0\n",
    "        else:\n",
    "            if pcm[0, 1] <= 0 or pcm[1, 0] <= 0:\n",
    "                weights = np.array([0.5, 0.5])\n",
    "            else:\n",
    "                w1 = np.sqrt(pcm[0, 1])\n",
    "                w2 = np.sqrt(pcm[1, 0])\n",
    "                weights = np.array([w1, w2])\n",
    "                sum_w = np.sum(weights)\n",
    "                weights = weights / sum_w if sum_w > 1e-9 and np.isfinite(sum_w) else np.array([0.5, 0.5])\n",
    "            lambda_max = 2.0\n",
    "        ci = 0.0\n",
    "        cr = 0.0\n",
    "        print(f\"Weight Calculation (n={n}): Weights={weights}, CR = 0.0\")\n",
    "        return weights, lambda_max, ci, cr\n",
    "\n",
    "    try:\n",
    "        eigenvalues, eigenvectors = np.linalg.eig(pcm)\n",
    "        lambda_max_idx = np.argmax(eigenvalues.real)\n",
    "        lambda_max = eigenvalues[lambda_max_idx].real\n",
    "        weights_vector = np.abs(eigenvectors[:, lambda_max_idx].real)\n",
    "        sum_weights = np.sum(weights_vector)\n",
    "\n",
    "        if sum_weights <= 1e-9 or not np.isfinite(sum_weights):\n",
    "            print(f\"Error: Invalid eigenvector sum ({sum_weights}). Using equal weights.\", file=sys.stderr)\n",
    "            weights = np.ones(n) / n\n",
    "        else:\n",
    "            weights = weights_vector / sum_weights\n",
    "\n",
    "        ci = (lambda_max - n) / (n - 1)\n",
    "        ri = RI_TABLE.get(n)\n",
    "        cr = max(0, ci) / ri if ri and ri != 0 else np.inf\n",
    "\n",
    "        if np.isnan(weights).any():\n",
    "            print(\"Error: Final weights contain NaN. Using equal weights.\", file=sys.stderr)\n",
    "            weights = np.ones(n) / n\n",
    "\n",
    "        print(f\"Lambda Max: {lambda_max:.4f}, CI: {ci:.4f}, CR: {cr:.4f}\")\n",
    "        print(\"--- Weight and Consistency Calculation Done ---\")\n",
    "        return weights, lambda_max, ci, cr\n",
    "\n",
    "    except np.linalg.LinAlgError as e:\n",
    "        print(f\"Critical Linear Algebra Error: {e}\", file=sys.stderr)\n",
    "        return None, None, None, None\n",
    "    except Exception as e:\n",
    "        print(f\"Unexpected Critical Error in weight calculation: {e}\", file=sys.stderr)\n",
    "        return None, None, None, None"
   ]
  }
 ],
 "metadata": {
  "language_info": {
   "name": "python"
  }
 },
 "nbformat": 4,
 "nbformat_minor": 5
}
