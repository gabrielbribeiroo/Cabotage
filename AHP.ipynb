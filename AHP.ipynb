{
 "cells": [
  {
   "cell_type": "markdown",
   "id": "d5081d26",
   "metadata": {},
   "source": [
    "📦 1. Imports and Initial Configuration"
   ]
  },
  {
   "cell_type": "code",
   "execution_count": null,
   "id": "006bba5a",
   "metadata": {},
   "outputs": [],
   "source": [
    "import pandas as pd\n",
    "import numpy as np\n",
    "import sys\n",
    "import traceback"
   ]
  },
  {
   "cell_type": "markdown",
   "id": "fa7e8586",
   "metadata": {},
   "source": [
    "🧾 2. Input Data and Evaluation Parameters"
   ]
  },
  {
   "cell_type": "code",
   "execution_count": null,
   "id": "984e1933",
   "metadata": {},
   "outputs": [],
   "source": [
    "evaluations = np.array([\n",
    "    [5, 5, 5, 5, 3, 5, 3, 5, 5, 5, 5, 3],\n",
    "    [5, 5, 5, 5, 5, 5, 5, 5, 5, 4, 5, 5],\n",
    "    ...\n",
    "])\n",
    "\n",
    "CRITERIA_NAMES = [\n",
    "    \"Reduces Congestion\",\n",
    "    \"Efficiency of Land Transport\",\n",
    "    \"Mitigates Accident Risk\",\n",
    "    \"Reduces Road Wear\",\n",
    "    \"Economies of Scale\",\n",
    "    \"Reduces Fuel Consumption\",\n",
    "    \"Reduces Cost per Ton\",\n",
    "    \"Reduces Accident Records\",\n",
    "    \"Reduces Cargo Damage\",\n",
    "    \"Reduces Cargo Theft\",\n",
    "    \"Reduces CO2 Emissions\",\n",
    "    \"Minimizes Brazil Cost\"\n",
    "]\n",
    "\n",
    "SAATY_SCALE_MAP = {\n",
    "    0: 1,\n",
    "    1: 3,\n",
    "    2: 5,\n",
    "    3: 7,\n",
    "    4: 9,\n",
    "    -1: 1/3,\n",
    "    -2: 1/5,\n",
    "    -3: 1/7,\n",
    "    -4: 1/9\n",
    "}\n",
    "\n",
    "MAX_RATING = 5\n",
    "MIN_RATING = 1\n",
    "MAX_DIFF = MAX_RATING - MIN_RATING\n",
    "\n",
    "RI_TABLE = {\n",
    "    1: 0.00, 2: 0.00, 3: 0.58, 4: 0.90, 5: 1.12, 6: 1.24, 7: 1.32,\n",
    "    8: 1.41, 9: 1.45, 10: 1.49, 11: 1.51, 12: 1.48, 13: 1.56, 14: 1.57, 15: 1.59\n",
    "}"
   ]
  },
  {
   "cell_type": "markdown",
   "id": "c38e83a3",
   "metadata": {},
   "source": [
    "🧮 3. Function: Map Difference to Saaty Scale"
   ]
  },
  {
   "cell_type": "code",
   "execution_count": null,
   "id": "9b7e261b",
   "metadata": {},
   "outputs": [],
   "source": [
    "def map_difference_to_saaty(diff):\n",
    "    \"\"\"Maps the difference between two scores to the Saaty scale.\"\"\"\n",
    "    clamped_diff = np.clip(diff, -MAX_DIFF, MAX_DIFF)\n",
    "    rounded_diff = round(clamped_diff)\n",
    "    return SAATY_SCALE_MAP.get(rounded_diff, 1)"
   ]
  },
  {
   "cell_type": "markdown",
   "id": "78608988",
   "metadata": {},
   "source": [
    "🧩 4. Function: Convert Ratings to Pairwise Comparison Matrix"
   ]
  },
  {
   "cell_type": "code",
   "execution_count": null,
   "id": "5ae49b63",
   "metadata": {},
   "outputs": [],
   "source": [
    "def ratings_to_pcm(ratings_row):\n",
    "    \"\"\"Converts a row of ratings into a pairwise comparison matrix (PCM).\"\"\"\n",
    "    n = len(ratings_row)\n",
    "    pcm = np.ones((n, n))\n",
    "    if np.isnan(ratings_row).any() or np.isinf(ratings_row).any():\n",
    "        print(\"  Warning: Rating row contains NaN or Inf. Skipping respondent.\", file=sys.stderr)\n",
    "        return None\n",
    "    for i in range(n):\n",
    "        for j in range(i + 1, n):\n",
    "            diff = ratings_row[i] - ratings_row[j]\n",
    "            saaty_value = map_difference_to_saaty(diff)\n",
    "            pcm[i, j] = saaty_value\n",
    "            pcm[j, i] = 1.0 / saaty_value if saaty_value != 0 else np.inf\n",
    "    if np.isnan(pcm).any() or np.isinf(pcm).any() or (pcm <= 0).any():\n",
    "        print(\"  Warning: Invalid PCM (NaN/Inf/<=0). Skipping.\", file=sys.stderr)\n",
    "        return None\n",
    "    return pcm"
   ]
  }
 ],
 "metadata": {
  "language_info": {
   "name": "python"
  }
 },
 "nbformat": 4,
 "nbformat_minor": 5
}
